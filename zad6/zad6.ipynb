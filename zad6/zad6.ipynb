{
 "cells": [
  {
   "cell_type": "code",
   "execution_count": 2,
   "metadata": {},
   "outputs": [],
   "source": [
    "a = \"Jestem impulsywny\"\n",
    "b = \"Uchodzę za osobę zabawaną i elokwentną\"\n",
    "c = \"Często brak u mnie wyrzutów sumienia\"\n",
    "d = \"Brak mi empatii\"\n",
    "e = \"Często skupiam się wyłącznie na sobie\"\n",
    "def lista_pytan(o):\n",
    "    lista_pytan = [a, b, c, d, e]"
   ]
  },
  {
   "cell_type": "code",
   "execution_count": 4,
   "metadata": {},
   "outputs": [
    {
     "name": "stdout",
     "output_type": "stream",
     "text": [
      "Test składa się z 5 pytań, odpowiedz w skali od 1-5\n",
      "Jestem impulsywny\n"
     ]
    },
    {
     "name": "stdin",
     "output_type": "stream",
     "text": [
      "1 oznacza zupełnie się nie zgadzam a 5 oznacza całkowicie się zgadzam: 1\n"
     ]
    },
    {
     "name": "stdout",
     "output_type": "stream",
     "text": [
      "Test składa się z 5 pytań, odpowiedz w skali od 1-5\n",
      "Uchodzę za osobę zabawaną i elokwentną\n"
     ]
    },
    {
     "name": "stdin",
     "output_type": "stream",
     "text": [
      "1 oznacza zupełnie się nie zgadzam a 5 oznacza całkowicie się zgadzam: 2\n"
     ]
    },
    {
     "name": "stdout",
     "output_type": "stream",
     "text": [
      "Test składa się z 5 pytań, odpowiedz w skali od 1-5\n",
      "Często brak u mnie wyrzutów sumienia\n"
     ]
    },
    {
     "name": "stdin",
     "output_type": "stream",
     "text": [
      "1 oznacza zupełnie się nie zgadzam a 5 oznacza całkowicie się zgadzam: 1\n"
     ]
    },
    {
     "name": "stdout",
     "output_type": "stream",
     "text": [
      "Test składa się z 5 pytań, odpowiedz w skali od 1-5\n",
      "Brak mi empatii\n"
     ]
    },
    {
     "name": "stdin",
     "output_type": "stream",
     "text": [
      "1 oznacza zupełnie się nie zgadzam a 5 oznacza całkowicie się zgadzam: 1\n"
     ]
    },
    {
     "name": "stdout",
     "output_type": "stream",
     "text": [
      "Test składa się z 5 pytań, odpowiedz w skali od 1-5\n",
      "Często skupiam się wyłącznie na sobie\n"
     ]
    },
    {
     "name": "stdin",
     "output_type": "stream",
     "text": [
      "1 oznacza zupełnie się nie zgadzam a 5 oznacza całkowicie się zgadzam: 2\n"
     ]
    },
    {
     "name": "stdout",
     "output_type": "stream",
     "text": [
      "Zdecydowanie nie jesteś psychopatą, możesz być spokojny\n"
     ]
    }
   ],
   "source": [
    "def zadaj_pytanie(a):\n",
    "    print (\"Test składa się z 5 pytań, odpowiedz w skali od 1-5\")\n",
    "    print(a)\n",
    "    odp = input(\"1 oznacza zupełnie się nie zgadzam a 5 oznacza całkowicie się zgadzam:\")\n",
    "    odp = int(odp)\n",
    "    if odp>5 or odp<1:\n",
    "        print(\"Wpisałeś złą liczbę\")\n",
    "    else:\n",
    "        return odp\n",
    "punkty = []\n",
    "pnkt = zadaj_pytanie(a)\n",
    "punkty.append(pnkt)\n",
    "pnkt = zadaj_pytanie(b)\n",
    "punkty.append(pnkt)\n",
    "pnkt = zadaj_pytanie(c)\n",
    "punkty.append(pnkt)\n",
    "pnkt = zadaj_pytanie(d)\n",
    "punkty.append(pnkt)\n",
    "pnkt = zadaj_pytanie(e)\n",
    "punkty.append(pnkt)\n",
    "wynik = sum(punkty)\n",
    "wynik = int(wynik)\n",
    "if wynik>5 and wynik<10:\n",
    "    print(\"Zdecydowanie nie jesteś psychopatą, możesz być spokojny\")\n",
    "elif wynik>=10 and wynik<15:\n",
    "    print(\"Przejawiasz niektóre zachowania charakterystyczne dla psychopatów, ale to normalne\")\n",
    "elif wynik>=15and wynik<20:\n",
    "    print(\"Możliwe, że jesteś psychopatą. Pójdź do lekarza i to sprawdź\")\n",
    "elif wynik>=20:\n",
    "    print(\"JESTEŚ PSYCHOPATĄ!\")"
   ]
  },
  {
   "cell_type": "code",
   "execution_count": null,
   "metadata": {},
   "outputs": [],
   "source": []
  }
 ],
 "metadata": {
  "kernelspec": {
   "display_name": "Python 3",
   "language": "python",
   "name": "python3"
  },
  "language_info": {
   "codemirror_mode": {
    "name": "ipython",
    "version": 3
   },
   "file_extension": ".py",
   "mimetype": "text/x-python",
   "name": "python",
   "nbconvert_exporter": "python",
   "pygments_lexer": "ipython3",
   "version": "3.7.0"
  }
 },
 "nbformat": 4,
 "nbformat_minor": 2
}
