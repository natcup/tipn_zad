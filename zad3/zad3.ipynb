{
 "cells": [
  {
   "cell_type": "markdown",
   "metadata": {},
   "source": [
    "## Moja średnia ocen\n",
    "To jest **notebook**, który obliczy moją _średnią ocen_ w tym semestrze."
   ]
  },
  {
   "cell_type": "code",
   "execution_count": 9,
   "metadata": {},
   "outputs": [],
   "source": [
    "psych_og=4.0\n",
    "tech_inf=5.0\n",
    "przeglad_dziedzin=4.7\n",
    "tren_inter=4.8\n",
    "komunikacja=5.0\n",
    "logika=3.7\n",
    "anatomia=3.4\n",
    "biol_mech=4.2"
   ]
  },
  {
   "cell_type": "code",
   "execution_count": 11,
   "metadata": {},
   "outputs": [],
   "source": [
    "suma=psych_og+tech_inf+przeglad_dziedzin+tren_inter+komunikacja+logika+anatomia+biol_mech\n",
    "srednia=suma/8"
   ]
  },
  {
   "cell_type": "code",
   "execution_count": 12,
   "metadata": {},
   "outputs": [
    {
     "name": "stdout",
     "output_type": "stream",
     "text": [
      "Moja średnia w pierwszym semestrze studiów to 4.35\n"
     ]
    }
   ],
   "source": [
    "print (\"Moja średnia w pierwszym semestrze studiów to\", str(srednia))"
   ]
  },
  {
   "cell_type": "code",
   "execution_count": null,
   "metadata": {},
   "outputs": [],
   "source": []
  }
 ],
 "metadata": {
  "kernelspec": {
   "display_name": "Python 3",
   "language": "python",
   "name": "python3"
  },
  "language_info": {
   "codemirror_mode": {
    "name": "ipython",
    "version": 3
   },
   "file_extension": ".py",
   "mimetype": "text/x-python",
   "name": "python",
   "nbconvert_exporter": "python",
   "pygments_lexer": "ipython3",
   "version": "3.7.0"
  }
 },
 "nbformat": 4,
 "nbformat_minor": 2
}
